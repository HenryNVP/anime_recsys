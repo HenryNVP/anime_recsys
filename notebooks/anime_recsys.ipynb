{
 "cells": [
  {
   "cell_type": "code",
   "execution_count": null,
   "id": "74f233cd",
   "metadata": {},
   "outputs": [],
   "source": [
    "import torch, platform\n",
    "print(\"Python:\", platform.python_version())\n",
    "print(\"Torch:\", torch.__version__)\n",
    "print(\"CUDA available:\", torch.cuda.is_available())\n"
   ]
  },
  {
   "cell_type": "code",
   "execution_count": null,
   "id": "b28af544",
   "metadata": {},
   "outputs": [],
   "source": [
    "REPO = \"https://github.com/<your-username>/<your-repo>.git\"  # TODO: replace with your repo\n",
    "!git clone $REPO\n",
    "\n",
    "import os, re\n",
    "repo_name = re.sub(r\".*/(.*)\\\\.git$\", r\"\\\\1\", REPO)\n",
    "%cd $repo_name\n",
    "\n",
    "!pip -q install -r requirements.txt"
   ]
  },
  {
   "cell_type": "code",
   "execution_count": null,
   "id": "eef40cf6",
   "metadata": {},
   "outputs": [],
   "source": [
    "# Create data/ and upload anime.csv, rating.csv\n",
    "import os\n",
    "os.makedirs(\"data\", exist_ok=True)\n",
    "\n",
    "from google.colab import files\n",
    "print(\"Upload anime.csv and rating.csv\")\n",
    "uploaded = files.upload()\n",
    "for name in uploaded.keys():\n",
    "    if name.endswith(\".csv\"):\n",
    "        !mv $name data/\n",
    "!ls -lh data || true"
   ]
  }
 ],
 "metadata": {
  "language_info": {
   "name": "python"
  }
 },
 "nbformat": 4,
 "nbformat_minor": 5
}
