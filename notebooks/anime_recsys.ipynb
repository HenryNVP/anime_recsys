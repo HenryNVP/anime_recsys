{
 "cells": [
  {
   "cell_type": "code",
   "execution_count": null,
   "id": "74f233cd",
   "metadata": {},
   "outputs": [],
   "source": [
    "import torch, platform\n",
    "print(\"Python:\", platform.python_version())\n",
    "print(\"Torch:\", torch.__version__)\n",
    "print(\"CUDA available:\", torch.cuda.is_available())\n"
   ]
  },
  {
   "cell_type": "code",
   "execution_count": null,
   "id": "b28af544",
   "metadata": {},
   "outputs": [],
   "source": [
    "REPO = \"https://github.com/HenryNVP/anime_recsys.git\"\n",
    "!git clone $REPO\n",
    "\n",
    "import os, re\n",
    "repo_name = re.sub(r\".*/(.*)\\\\.git$\", r\"\\\\1\", REPO)\n",
    "%cd $repo_name\n",
    "\n",
    "!pip -q install -r requirements.txt"
   ]
  },
  {
   "cell_type": "code",
   "execution_count": null,
   "id": "eef40cf6",
   "metadata": {},
   "outputs": [],
   "source": [
    "# Create data/ and upload anime.csv, rating.csv\n",
    "import os\n",
    "os.makedirs(\"data\", exist_ok=True)\n",
    "\n",
    "from google.colab import files\n",
    "print(\"Upload anime.csv and rating.csv\")\n",
    "uploaded = files.upload()\n",
    "for name in uploaded.keys():\n",
    "    if name.endswith(\".csv\"):\n",
    "        !mv $name data/\n",
    "!ls -lh data || true"
   ]
  },
  {
   "cell_type": "code",
   "execution_count": null,
   "id": "c7f22dee",
   "metadata": {},
   "outputs": [],
   "source": [
    "# Adjust --epochs and --batch_size for speed/quality\n",
    "!python -m recsys.train --trainer neumf --epochs 5 --batch_size 8192 --neg_k 4"
   ]
  },
  {
   "cell_type": "code",
   "execution_count": null,
   "id": "eed4a88f",
   "metadata": {},
   "outputs": [],
   "source": [
    "# Uncomment to train ALS baseline (requires 'implicit')\n",
    "!python -m recsys.train --trainer als --factors 64 --iterations 10 --reg 0.01"
   ]
  },
  {
   "cell_type": "code",
   "execution_count": null,
   "id": "e725c79e",
   "metadata": {},
   "outputs": [],
   "source": [
    "print(\"NeuMF (val):\")\n",
    "!python -m recsys.eval --model neumf --split val --k 10\n",
    "\n",
    "print(\"\\nNeuMF (test):\")\n",
    "!python -m recsys.eval --model neumf --split test --k 10\n",
    "\n",
    "print(\"\\nALS (val):\")\n",
    "!python -m recsys.eval --model als --split val --k 10 || true\n",
    "\n",
    "print(\"\\nALS (test):\")\n",
    "!python -m recsys.eval --model als --split test --k 10 || true"
   ]
  },
  {
   "cell_type": "code",
   "execution_count": null,
   "id": "d63f7bff",
   "metadata": {},
   "outputs": [],
   "source": [
    "import json, os, matplotlib.pyplot as plt\n",
    "\n",
    "if os.path.exists(\"results/metrics.json\"):\n",
    "    with open(\"results/metrics.json\") as f:\n",
    "        m = json.load(f)\n",
    "    print(m)\n",
    "else:\n",
    "    print(\"Run eval first.\")"
   ]
  }
 ],
 "metadata": {
  "language_info": {
   "name": "python"
  }
 },
 "nbformat": 4,
 "nbformat_minor": 5
}
